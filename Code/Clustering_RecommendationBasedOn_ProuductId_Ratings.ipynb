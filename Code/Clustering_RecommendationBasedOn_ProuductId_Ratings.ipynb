{
  "nbformat": 4,
  "nbformat_minor": 0,
  "metadata": {
    "colab": {
      "name": "Untitled18.ipynb",
      "provenance": []
    },
    "kernelspec": {
      "name": "python3",
      "display_name": "Python 3"
    },
    "language_info": {
      "name": "python"
    }
  },
  "cells": [
    {
      "cell_type": "code",
      "metadata": {
        "id": "_QW4fQyQ4vQb"
      },
      "source": [
        "from sklearn.cluster import KMeans #K-Means clustering.\n",
        "import pandas as pd #Package with multiple methods of data filtering.\n",
        "from sklearn.preprocessing import MinMaxScaler #Transform features by scaling each feature to a given range.\n",
        "\n",
        "from matplotlib import pyplot as plt #For plottting data in multiple ways\n",
        "#To render a figure in a notebook\n",
        "%matplotlib inline "
      ],
      "execution_count": 123,
      "outputs": []
    },
    {
      "cell_type": "code",
      "metadata": {
        "id": "7n68C2lm5Yqq"
      },
      "source": [
        "X = pd.read_csv('/content/drive/MyDrive/ML DataSet/Updated_product_des.csv') #Read dataset\n",
        "X1 = X.head(150) #Store top 150 rows of the dataset\n",
        "X1 #Print"
      ],
      "execution_count": null,
      "outputs": []
    },
    {
      "cell_type": "code",
      "metadata": {
        "id": "eIXl66F08Zr_"
      },
      "source": [
        "X2 = X1[[\"Product_Id\",\"Ratings\"]]#Assign matrix to X2 containing just Prouduct Id and Ratings.\n",
        "X2"
      ],
      "execution_count": null,
      "outputs": []
    },
    {
      "cell_type": "code",
      "metadata": {
        "id": "x0fxkdE54xeu"
      },
      "source": [
        "plt.scatter(X2['Product_Id'],X2['Ratings']) #Plots ratings vs ProductId"
      ],
      "execution_count": null,
      "outputs": []
    },
    {
      "cell_type": "code",
      "metadata": {
        "id": "NUS9BlA7439k"
      },
      "source": [
        "km = KMeans(n_clusters=5) #CLusters of 5 because we have ratings out of 5.\n",
        "km"
      ],
      "execution_count": null,
      "outputs": []
    },
    {
      "cell_type": "code",
      "metadata": {
        "id": "3AxdYm3s46v2"
      },
      "source": [
        "y = km.fit_predict(X2[['Ratings']]) #Assign values in array form based on ratings.\n",
        "y"
      ],
      "execution_count": null,
      "outputs": []
    },
    {
      "cell_type": "code",
      "metadata": {
        "id": "_Nnt_BX448ru"
      },
      "source": [
        "X2['cluster'] = y #Adds a column named 'cluster'\n",
        "\n",
        "Data1=X2[[\"Product_Id\",\"Ratings\",\"cluster\"]] #Storing X2 in series named Data1\n",
        "Data1 #To display\n"
      ],
      "execution_count": null,
      "outputs": []
    },
    {
      "cell_type": "code",
      "metadata": {
        "id": "giTKv9fbfE9n"
      },
      "source": [
        "# Assign values to variable Y based on the cluster.\n",
        "Y1=X2[X2.cluster==0]\n",
        "Y2=X2[X2.cluster==1]\n",
        "Y3=X2[X2.cluster==2]\n",
        "Y4=X2[X2.cluster==3]\n",
        "Y5=X2[X2.cluster==4]\n",
        "\n",
        "#Assigns a particular color to each color.\n",
        "plt.scatter(Y1.Product_Id,Y1['Ratings'], color='green')\n",
        "plt.scatter(Y2.Product_Id,Y2['Ratings'], color='red')\n",
        "plt.scatter(Y3.Product_Id,Y3['Ratings'], color='blue')\n",
        "plt.scatter(Y4.Product_Id,Y4['Ratings'], color='purple')\n",
        "plt.scatter(Y5.Product_Id,Y5['Ratings'], color='orange')\n",
        "\n",
        "#Plot\n",
        "plt.xlabel('Product Id')\n",
        "plt.ylabel('Ratings')\n",
        "plt.legend()\n",
        "\n"
      ],
      "execution_count": null,
      "outputs": []
    },
    {
      "cell_type": "code",
      "metadata": {
        "id": "0z71oePygMpy"
      },
      "source": [
        "#User-Built function that displays similar products based on user input \n",
        "def show_recommendations(id):\n",
        "  out1 = X2.query(\"Product_Id == @id\")\n",
        "  final = out1.Ratings\n",
        "  out2 = X2.loc[X2['Ratings'].isin(final)]\n",
        "  return out2[[\"Product_Id\",\"Ratings\"]]"
      ],
      "execution_count": 139,
      "outputs": []
    },
    {
      "cell_type": "code",
      "metadata": {
        "id": "R2WJ7Xi23UBZ"
      },
      "source": [
        "show_recommendations(\"B000179R3I\")"
      ],
      "execution_count": null,
      "outputs": []
    }
  ]
}