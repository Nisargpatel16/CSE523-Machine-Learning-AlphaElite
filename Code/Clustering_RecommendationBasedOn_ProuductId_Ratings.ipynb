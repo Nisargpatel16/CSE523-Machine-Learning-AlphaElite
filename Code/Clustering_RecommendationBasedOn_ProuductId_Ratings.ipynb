{
  "nbformat": 4,
  "nbformat_minor": 0,
  "metadata": {
    "colab": {
      "name": "Clustering_RecommendationBasedOn_ProuductId_Ratings.ipynb",
      "provenance": []
    },
    "kernelspec": {
      "name": "python3",
      "display_name": "Python 3"
    },
    "language_info": {
      "name": "python"
    }
  },
  "cells": [
    {
      "cell_type": "code",
      "metadata": {
        "id": "_QW4fQyQ4vQb"
      },
      "source": [
        "from sklearn.cluster import KMeans #K-Means clustering.\n",
        "import pandas as pd #Package with multiple methods of data filtering.\n",
        "from sklearn.preprocessing import MinMaxScaler #Transform features by scaling each feature to a given range.\n",
        "\n",
        "from matplotlib import pyplot as plt #For plottting data in multiple ways\n",
        "#To render a figure in a notebook\n",
        "%matplotlib inline "
      ],
      "execution_count": 3,
      "outputs": []
    },
    {
      "cell_type": "code",
      "metadata": {
        "id": "7n68C2lm5Yqq",
        "colab": {
          "base_uri": "https://localhost:8080/",
          "height": 568
        },
        "outputId": "4c3cd04f-1c70-4be4-9db2-dbe6c2785685"
      },
      "source": [
        "X = pd.read_csv('/content/drive/MyDrive/ML DataSet/Updated_product_des.csv') #Read dataset\n",
        "X1 = X.head(150) #Store top 150 rows of the dataset\n",
        "X1 #Print"
      ],
      "execution_count": 4,
      "outputs": [
        {
          "output_type": "execute_result",
          "data": {
            "text/html": [
              "<div>\n",
              "<style scoped>\n",
              "    .dataframe tbody tr th:only-of-type {\n",
              "        vertical-align: middle;\n",
              "    }\n",
              "\n",
              "    .dataframe tbody tr th {\n",
              "        vertical-align: top;\n",
              "    }\n",
              "\n",
              "    .dataframe thead th {\n",
              "        text-align: right;\n",
              "    }\n",
              "</style>\n",
              "<table border=\"1\" class=\"dataframe\">\n",
              "  <thead>\n",
              "    <tr style=\"text-align: right;\">\n",
              "      <th></th>\n",
              "      <th>Product_Id</th>\n",
              "      <th>Product_title</th>\n",
              "      <th>Product_price</th>\n",
              "      <th>User_Id</th>\n",
              "      <th>Profile_name</th>\n",
              "      <th>Helpfullness</th>\n",
              "      <th>Ratings</th>\n",
              "      <th>Time_stamp</th>\n",
              "      <th>Summary</th>\n",
              "      <th>Review</th>\n",
              "    </tr>\n",
              "  </thead>\n",
              "  <tbody>\n",
              "    <tr>\n",
              "      <th>0</th>\n",
              "      <td>B000179R3I</td>\n",
              "      <td>Amazon.com: Austin Reed Dartmouth Jacket In B...</td>\n",
              "      <td>unknown</td>\n",
              "      <td>A3Q0VJTUO4EZ56</td>\n",
              "      <td>Jeanmarie Kabala \"JP Kabala\"</td>\n",
              "      <td>7</td>\n",
              "      <td>4</td>\n",
              "      <td>1182816000</td>\n",
              "      <td>This a an american blazer. Red in Color.</td>\n",
              "      <td>I own the Austin Reed dartmouth blazer in eve...</td>\n",
              "    </tr>\n",
              "    <tr>\n",
              "      <th>1</th>\n",
              "      <td>B000GKXY34</td>\n",
              "      <td>Nun Chuck, Novelty: Nun Toss Toy</td>\n",
              "      <td>17.99</td>\n",
              "      <td>ADX8VLDUOL7BG</td>\n",
              "      <td>M. Gingras</td>\n",
              "      <td>0</td>\n",
              "      <td>5</td>\n",
              "      <td>1262304000</td>\n",
              "      <td>Cotton Raymond Blazer</td>\n",
              "      <td>Got these last Christmas as a gag gift. They ...</td>\n",
              "    </tr>\n",
              "    <tr>\n",
              "      <th>2</th>\n",
              "      <td>B000GKXY34</td>\n",
              "      <td>Nun Chuck, Novelty Nun Toss Toy</td>\n",
              "      <td>17.99</td>\n",
              "      <td>A3NM6P6BIWTIAE</td>\n",
              "      <td>Maria Carpenter</td>\n",
              "      <td>0</td>\n",
              "      <td>3</td>\n",
              "      <td>1224633600</td>\n",
              "      <td>Iphone 11 256 gb</td>\n",
              "      <td>Gave this to my dad for a gag gift after dire...</td>\n",
              "    </tr>\n",
              "    <tr>\n",
              "      <th>3</th>\n",
              "      <td>1882931173</td>\n",
              "      <td>Its Only Art If Its Well Hung!</td>\n",
              "      <td>unknown</td>\n",
              "      <td>AVCGYZL8FQQTD</td>\n",
              "      <td>Jim of Oz \"jim-of-oz\"</td>\n",
              "      <td>7</td>\n",
              "      <td>4</td>\n",
              "      <td>940636800</td>\n",
              "      <td>Refurbished Iphone X</td>\n",
              "      <td>This is only for Julie Strain fans. It's a co...</td>\n",
              "    </tr>\n",
              "    <tr>\n",
              "      <th>4</th>\n",
              "      <td>B00002066I</td>\n",
              "      <td>ah</td>\n",
              "      <td>15.99</td>\n",
              "      <td>unknown</td>\n",
              "      <td>unknown</td>\n",
              "      <td>3</td>\n",
              "      <td>5</td>\n",
              "      <td>939772800</td>\n",
              "      <td>Iphone 8 64 gb</td>\n",
              "      <td>I hope a lot of people hear this cd. We need ...</td>\n",
              "    </tr>\n",
              "    <tr>\n",
              "      <th>...</th>\n",
              "      <td>...</td>\n",
              "      <td>...</td>\n",
              "      <td>...</td>\n",
              "      <td>...</td>\n",
              "      <td>...</td>\n",
              "      <td>...</td>\n",
              "      <td>...</td>\n",
              "      <td>...</td>\n",
              "      <td>...</td>\n",
              "      <td>...</td>\n",
              "    </tr>\n",
              "    <tr>\n",
              "      <th>145</th>\n",
              "      <td>B000JINSBG</td>\n",
              "      <td>A Walk in the Woods</td>\n",
              "      <td>unknown</td>\n",
              "      <td>A3V0MK4KOD61KO</td>\n",
              "      <td>porsche driver \"porsche driver\"</td>\n",
              "      <td>1</td>\n",
              "      <td>5</td>\n",
              "      <td>1243728000</td>\n",
              "      <td>A walk in the woods</td>\n",
              "      <td>This is an old play I saw on stage many years ...</td>\n",
              "    </tr>\n",
              "    <tr>\n",
              "      <th>146</th>\n",
              "      <td>895554224</td>\n",
              "      <td>Saint Hyacinth of Poland</td>\n",
              "      <td>13.95</td>\n",
              "      <td>unknown</td>\n",
              "      <td>unknown</td>\n",
              "      <td>3</td>\n",
              "      <td>5</td>\n",
              "      <td>984009600</td>\n",
              "      <td>Review from the Publisher</td>\n",
              "      <td>Tells the wonderful story of how St. Hyacinth...</td>\n",
              "    </tr>\n",
              "    <tr>\n",
              "      <th>147</th>\n",
              "      <td>895554224</td>\n",
              "      <td>Saint Hyacinth of Poland</td>\n",
              "      <td>13.95</td>\n",
              "      <td>A1IVIK8YJRIQWU</td>\n",
              "      <td>Nov 10 \"Tom\"</td>\n",
              "      <td>2</td>\n",
              "      <td>4</td>\n",
              "      <td>945648000</td>\n",
              "      <td>A miracle on every page!</td>\n",
              "      <td>Who was Saint Hyacinth? The story starts with...</td>\n",
              "    </tr>\n",
              "    <tr>\n",
              "      <th>148</th>\n",
              "      <td>B000EVS4TY</td>\n",
              "      <td>Arrowhead Mills Cookie Mix, Chocolate Chip, 1...</td>\n",
              "      <td>unknown</td>\n",
              "      <td>A2SRVDDDOQ8QJL</td>\n",
              "      <td>MJ23447</td>\n",
              "      <td>2</td>\n",
              "      <td>4</td>\n",
              "      <td>1206576000</td>\n",
              "      <td>Delicious cookie mix</td>\n",
              "      <td>I thought it was funny that I bought this pro...</td>\n",
              "    </tr>\n",
              "    <tr>\n",
              "      <th>149</th>\n",
              "      <td>B00017HOWY</td>\n",
              "      <td>Foamagic</td>\n",
              "      <td>15</td>\n",
              "      <td>A35CFOAO34MN7S</td>\n",
              "      <td>Anne</td>\n",
              "      <td>2</td>\n",
              "      <td>5</td>\n",
              "      <td>1206576000</td>\n",
              "      <td>Woo wee - I'm going to be rich now!</td>\n",
              "      <td>Anyone who buys lattes (plural) every day can...</td>\n",
              "    </tr>\n",
              "  </tbody>\n",
              "</table>\n",
              "<p>150 rows × 10 columns</p>\n",
              "</div>"
            ],
            "text/plain": [
              "     Product_Id  ...                                             Review\n",
              "0    B000179R3I  ...   I own the Austin Reed dartmouth blazer in eve...\n",
              "1    B000GKXY34  ...   Got these last Christmas as a gag gift. They ...\n",
              "2    B000GKXY34  ...   Gave this to my dad for a gag gift after dire...\n",
              "3    1882931173  ...   This is only for Julie Strain fans. It's a co...\n",
              "4    B00002066I  ...   I hope a lot of people hear this cd. We need ...\n",
              "..          ...  ...                                                ...\n",
              "145  B000JINSBG  ...  This is an old play I saw on stage many years ...\n",
              "146   895554224  ...   Tells the wonderful story of how St. Hyacinth...\n",
              "147   895554224  ...   Who was Saint Hyacinth? The story starts with...\n",
              "148  B000EVS4TY  ...   I thought it was funny that I bought this pro...\n",
              "149  B00017HOWY  ...   Anyone who buys lattes (plural) every day can...\n",
              "\n",
              "[150 rows x 10 columns]"
            ]
          },
          "metadata": {
            "tags": []
          },
          "execution_count": 4
        }
      ]
    },
    {
      "cell_type": "code",
      "metadata": {
        "colab": {
          "base_uri": "https://localhost:8080/",
          "height": 399
        },
        "id": "eIXl66F08Zr_",
        "outputId": "73548ff1-3a21-4cfa-dbe9-afec545326da"
      },
      "source": [
        "X2 = X1[[\"Product_Id\",\"Ratings\"]]#Assign matrix to X2 containing just Prouduct Id and Ratings.\n",
        "X2"
      ],
      "execution_count": 5,
      "outputs": [
        {
          "output_type": "execute_result",
          "data": {
            "text/html": [
              "<div>\n",
              "<style scoped>\n",
              "    .dataframe tbody tr th:only-of-type {\n",
              "        vertical-align: middle;\n",
              "    }\n",
              "\n",
              "    .dataframe tbody tr th {\n",
              "        vertical-align: top;\n",
              "    }\n",
              "\n",
              "    .dataframe thead th {\n",
              "        text-align: right;\n",
              "    }\n",
              "</style>\n",
              "<table border=\"1\" class=\"dataframe\">\n",
              "  <thead>\n",
              "    <tr style=\"text-align: right;\">\n",
              "      <th></th>\n",
              "      <th>Product_Id</th>\n",
              "      <th>Ratings</th>\n",
              "    </tr>\n",
              "  </thead>\n",
              "  <tbody>\n",
              "    <tr>\n",
              "      <th>0</th>\n",
              "      <td>B000179R3I</td>\n",
              "      <td>4</td>\n",
              "    </tr>\n",
              "    <tr>\n",
              "      <th>1</th>\n",
              "      <td>B000GKXY34</td>\n",
              "      <td>5</td>\n",
              "    </tr>\n",
              "    <tr>\n",
              "      <th>2</th>\n",
              "      <td>B000GKXY34</td>\n",
              "      <td>3</td>\n",
              "    </tr>\n",
              "    <tr>\n",
              "      <th>3</th>\n",
              "      <td>1882931173</td>\n",
              "      <td>4</td>\n",
              "    </tr>\n",
              "    <tr>\n",
              "      <th>4</th>\n",
              "      <td>B00002066I</td>\n",
              "      <td>5</td>\n",
              "    </tr>\n",
              "    <tr>\n",
              "      <th>...</th>\n",
              "      <td>...</td>\n",
              "      <td>...</td>\n",
              "    </tr>\n",
              "    <tr>\n",
              "      <th>145</th>\n",
              "      <td>B000JINSBG</td>\n",
              "      <td>5</td>\n",
              "    </tr>\n",
              "    <tr>\n",
              "      <th>146</th>\n",
              "      <td>895554224</td>\n",
              "      <td>5</td>\n",
              "    </tr>\n",
              "    <tr>\n",
              "      <th>147</th>\n",
              "      <td>895554224</td>\n",
              "      <td>4</td>\n",
              "    </tr>\n",
              "    <tr>\n",
              "      <th>148</th>\n",
              "      <td>B000EVS4TY</td>\n",
              "      <td>4</td>\n",
              "    </tr>\n",
              "    <tr>\n",
              "      <th>149</th>\n",
              "      <td>B00017HOWY</td>\n",
              "      <td>5</td>\n",
              "    </tr>\n",
              "  </tbody>\n",
              "</table>\n",
              "<p>150 rows × 2 columns</p>\n",
              "</div>"
            ],
            "text/plain": [
              "     Product_Id  Ratings\n",
              "0    B000179R3I        4\n",
              "1    B000GKXY34        5\n",
              "2    B000GKXY34        3\n",
              "3    1882931173        4\n",
              "4    B00002066I        5\n",
              "..          ...      ...\n",
              "145  B000JINSBG        5\n",
              "146   895554224        5\n",
              "147   895554224        4\n",
              "148  B000EVS4TY        4\n",
              "149  B00017HOWY        5\n",
              "\n",
              "[150 rows x 2 columns]"
            ]
          },
          "metadata": {
            "tags": []
          },
          "execution_count": 5
        }
      ]
    },
    {
      "cell_type": "code",
      "metadata": {
        "id": "x0fxkdE54xeu",
        "colab": {
          "base_uri": "https://localhost:8080/",
          "height": 283
        },
        "outputId": "91efdd58-3ceb-46e3-caf7-5cba79dc91eb"
      },
      "source": [
        "plt.scatter(X2['Product_Id'],X2['Ratings']) #Plots ratings vs ProductId"
      ],
      "execution_count": 6,
      "outputs": [
        {
          "output_type": "execute_result",
          "data": {
            "text/plain": [
              "<matplotlib.collections.PathCollection at 0x7f7ff45a8f90>"
            ]
          },
          "metadata": {
            "tags": []
          },
          "execution_count": 6
        },
        {
          "output_type": "display_data",
          "data": {
            "image/png": "[encoded data removed]",
            "text/plain": [
              "<Figure size 432x288 with 1 Axes>"
            ]
          },
          "metadata": {
            "tags": [],
            "needs_background": "light"
          }
        }
      ]
    },
    {
      "cell_type": "code",
      "metadata": {
        "id": "NUS9BlA7439k",
        "colab": {
          "base_uri": "https://localhost:8080/"
        },
        "outputId": "16981331-839a-4cf9-9ddd-bbe1274e910c"
      },
      "source": [
        "km = KMeans(n_clusters=5) #CLusters of 5 because we have ratings out of 5.\n",
        "km"
      ],
      "execution_count": 7,
      "outputs": [
        {
          "output_type": "execute_result",
          "data": {
            "text/plain": [
              "KMeans(algorithm='auto', copy_x=True, init='k-means++', max_iter=300,\n",
              "       n_clusters=5, n_init=10, n_jobs=None, precompute_distances='auto',\n",
              "       random_state=None, tol=0.0001, verbose=0)"
            ]
          },
          "metadata": {
            "tags": []
          },
          "execution_count": 7
        }
      ]
    },
    {
      "cell_type": "code",
      "metadata": {
        "id": "3AxdYm3s46v2",
        "colab": {
          "base_uri": "https://localhost:8080/"
        },
        "outputId": "0522be9d-dd7e-41c8-ed8f-e0ef47c901ab"
      },
      "source": [
        "y = km.fit_predict(X2[['Ratings']]) #Assign values in array form based on ratings.\n",
        "y"
      ],
      "execution_count": 8,
      "outputs": [
        {
          "output_type": "execute_result",
          "data": {
            "text/plain": [
              "array([2, 0, 3, 2, 0, 0, 0, 0, 0, 0, 0, 0, 2, 0, 0, 0, 0, 0, 0, 0, 2, 0,\n",
              "       0, 0, 0, 0, 0, 0, 0, 0, 0, 0, 0, 0, 0, 0, 0, 0, 0, 0, 0, 0, 0, 0,\n",
              "       0, 0, 0, 0, 0, 0, 0, 0, 0, 0, 0, 0, 0, 0, 0, 0, 0, 0, 0, 2, 2, 2,\n",
              "       0, 0, 0, 2, 0, 0, 0, 0, 0, 0, 0, 1, 2, 1, 0, 0, 0, 0, 0, 0, 0, 0,\n",
              "       0, 2, 1, 0, 0, 0, 0, 2, 0, 2, 0, 0, 1, 1, 1, 1, 1, 2, 0, 0, 1, 0,\n",
              "       0, 0, 0, 0, 0, 0, 2, 0, 0, 0, 2, 0, 0, 0, 0, 0, 2, 2, 0, 0, 0, 0,\n",
              "       0, 0, 3, 4, 1, 0, 0, 0, 2, 3, 0, 0, 2, 0, 0, 2, 2, 0], dtype=int32)"
            ]
          },
          "metadata": {
            "tags": []
          },
          "execution_count": 8
        }
      ]
    },
    {
      "cell_type": "code",
      "metadata": {
        "id": "_Nnt_BX448ru",
        "colab": {
          "base_uri": "https://localhost:8080/",
          "height": 506
        },
        "outputId": "0a5dea7a-4d87-4507-c996-8955614a6d06"
      },
      "source": [
        "X2['cluster'] = y #Adds a column named 'cluster'\n",
        "\n",
        "Data1=X2[[\"Product_Id\",\"Ratings\",\"cluster\"]] #Storing X2 in series named Data1\n",
        "Data1 #To display\n"
      ],
      "execution_count": 9,
      "outputs": [
        {
          "output_type": "stream",
          "text": [
            "/usr/local/lib/python3.7/dist-packages/ipykernel_launcher.py:1: SettingWithCopyWarning: \n",
            "A value is trying to be set on a copy of a slice from a DataFrame.\n",
            "Try using .loc[row_indexer,col_indexer] = value instead\n",
            "\n",
            "See the caveats in the documentation: https://pandas.pydata.org/pandas-docs/stable/user_guide/indexing.html#returning-a-view-versus-a-copy\n",
            "  \"\"\"Entry point for launching an IPython kernel.\n"
          ],
          "name": "stderr"
        },
        {
          "output_type": "execute_result",
          "data": {
            "text/html": [
              "<div>\n",
              "<style scoped>\n",
              "    .dataframe tbody tr th:only-of-type {\n",
              "        vertical-align: middle;\n",
              "    }\n",
              "\n",
              "    .dataframe tbody tr th {\n",
              "        vertical-align: top;\n",
              "    }\n",
              "\n",
              "    .dataframe thead th {\n",
              "        text-align: right;\n",
              "    }\n",
              "</style>\n",
              "<table border=\"1\" class=\"dataframe\">\n",
              "  <thead>\n",
              "    <tr style=\"text-align: right;\">\n",
              "      <th></th>\n",
              "      <th>Product_Id</th>\n",
              "      <th>Ratings</th>\n",
              "      <th>cluster</th>\n",
              "    </tr>\n",
              "  </thead>\n",
              "  <tbody>\n",
              "    <tr>\n",
              "      <th>0</th>\n",
              "      <td>B000179R3I</td>\n",
              "      <td>4</td>\n",
              "      <td>2</td>\n",
              "    </tr>\n",
              "    <tr>\n",
              "      <th>1</th>\n",
              "      <td>B000GKXY34</td>\n",
              "      <td>5</td>\n",
              "      <td>0</td>\n",
              "    </tr>\n",
              "    <tr>\n",
              "      <th>2</th>\n",
              "      <td>B000GKXY34</td>\n",
              "      <td>3</td>\n",
              "      <td>3</td>\n",
              "    </tr>\n",
              "    <tr>\n",
              "      <th>3</th>\n",
              "      <td>1882931173</td>\n",
              "      <td>4</td>\n",
              "      <td>2</td>\n",
              "    </tr>\n",
              "    <tr>\n",
              "      <th>4</th>\n",
              "      <td>B00002066I</td>\n",
              "      <td>5</td>\n",
              "      <td>0</td>\n",
              "    </tr>\n",
              "    <tr>\n",
              "      <th>...</th>\n",
              "      <td>...</td>\n",
              "      <td>...</td>\n",
              "      <td>...</td>\n",
              "    </tr>\n",
              "    <tr>\n",
              "      <th>145</th>\n",
              "      <td>B000JINSBG</td>\n",
              "      <td>5</td>\n",
              "      <td>0</td>\n",
              "    </tr>\n",
              "    <tr>\n",
              "      <th>146</th>\n",
              "      <td>895554224</td>\n",
              "      <td>5</td>\n",
              "      <td>0</td>\n",
              "    </tr>\n",
              "    <tr>\n",
              "      <th>147</th>\n",
              "      <td>895554224</td>\n",
              "      <td>4</td>\n",
              "      <td>2</td>\n",
              "    </tr>\n",
              "    <tr>\n",
              "      <th>148</th>\n",
              "      <td>B000EVS4TY</td>\n",
              "      <td>4</td>\n",
              "      <td>2</td>\n",
              "    </tr>\n",
              "    <tr>\n",
              "      <th>149</th>\n",
              "      <td>B00017HOWY</td>\n",
              "      <td>5</td>\n",
              "      <td>0</td>\n",
              "    </tr>\n",
              "  </tbody>\n",
              "</table>\n",
              "<p>150 rows × 3 columns</p>\n",
              "</div>"
            ],
            "text/plain": [
              "     Product_Id  Ratings  cluster\n",
              "0    B000179R3I        4        2\n",
              "1    B000GKXY34        5        0\n",
              "2    B000GKXY34        3        3\n",
              "3    1882931173        4        2\n",
              "4    B00002066I        5        0\n",
              "..          ...      ...      ...\n",
              "145  B000JINSBG        5        0\n",
              "146   895554224        5        0\n",
              "147   895554224        4        2\n",
              "148  B000EVS4TY        4        2\n",
              "149  B00017HOWY        5        0\n",
              "\n",
              "[150 rows x 3 columns]"
            ]
          },
          "metadata": {
            "tags": []
          },
          "execution_count": 9
        }
      ]
    },
    {
      "cell_type": "code",
      "metadata": {
        "colab": {
          "base_uri": "https://localhost:8080/",
          "height": 315
        },
        "id": "giTKv9fbfE9n",
        "outputId": "5a87ff6a-7aa6-4d35-84cc-f975e4314d86"
      },
      "source": [
        "# Assign values to variable Y based on the cluster.\n",
        "Y1=X2[X2.cluster==0]\n",
        "Y2=X2[X2.cluster==1]\n",
        "Y3=X2[X2.cluster==2]\n",
        "Y4=X2[X2.cluster==3]\n",
        "Y5=X2[X2.cluster==4]\n",
        "\n",
        "#Assigns a particular color to each color.\n",
        "plt.scatter(Y1.Product_Id,Y1['Ratings'], color='green')\n",
        "plt.scatter(Y2.Product_Id,Y2['Ratings'], color='red')\n",
        "plt.scatter(Y3.Product_Id,Y3['Ratings'], color='blue')\n",
        "plt.scatter(Y4.Product_Id,Y4['Ratings'], color='purple')\n",
        "plt.scatter(Y5.Product_Id,Y5['Ratings'], color='orange')\n",
        "\n",
        "#Plot\n",
        "plt.xlabel('Product Id')\n",
        "plt.ylabel('Ratings')\n",
        "plt.legend()\n",
        "\n"
      ],
      "execution_count": 11,
      "outputs": [
        {
          "output_type": "stream",
          "text": [
            "No handles with labels found to put in legend.\n"
          ],
          "name": "stderr"
        },
        {
          "output_type": "execute_result",
          "data": {
            "text/plain": [
              "<matplotlib.legend.Legend at 0x7f7ff3506910>"
            ]
          },
          "metadata": {
            "tags": []
          },
          "execution_count": 11
        },
        {
          "output_type": "display_data",
          "data": {
            "image/png": "[encoded data removed]",
            "text/plain": [
              "<Figure size 432x288 with 1 Axes>"
            ]
          },
          "metadata": {
            "tags": [],
            "needs_background": "light"
          }
        }
      ]
    },
    {
      "cell_type": "code",
      "metadata": {
        "id": "0z71oePygMpy"
      },
      "source": [
        "#User-Built function that displays similar products based on user input \n",
        "def show_recommendations(id):\n",
        "  out1 = X2.query(\"Product_Id == @id\")\n",
        "  final = out1.Ratings\n",
        "  out2 = X2.loc[X2['Ratings'].isin(final)]\n",
        "  return out2[[\"Product_Id\",\"Ratings\"]]"
      ],
      "execution_count": 12,
      "outputs": []
    },
    {
      "cell_type": "code",
      "metadata": {
        "colab": {
          "base_uri": "https://localhost:8080/",
          "height": 663
        },
        "id": "R2WJ7Xi23UBZ",
        "outputId": "18ab663c-9c3a-4676-c04b-d83fa68e06bb"
      },
      "source": [
        "show_recommendations(\"B000179R3I\")"
      ],
      "execution_count": 13,
      "outputs": [
        {
          "output_type": "execute_result",
          "data": {
            "text/html": [
              "<div>\n",
              "<style scoped>\n",
              "    .dataframe tbody tr th:only-of-type {\n",
              "        vertical-align: middle;\n",
              "    }\n",
              "\n",
              "    .dataframe tbody tr th {\n",
              "        vertical-align: top;\n",
              "    }\n",
              "\n",
              "    .dataframe thead th {\n",
              "        text-align: right;\n",
              "    }\n",
              "</style>\n",
              "<table border=\"1\" class=\"dataframe\">\n",
              "  <thead>\n",
              "    <tr style=\"text-align: right;\">\n",
              "      <th></th>\n",
              "      <th>Product_Id</th>\n",
              "      <th>Ratings</th>\n",
              "    </tr>\n",
              "  </thead>\n",
              "  <tbody>\n",
              "    <tr>\n",
              "      <th>0</th>\n",
              "      <td>B000179R3I</td>\n",
              "      <td>4</td>\n",
              "    </tr>\n",
              "    <tr>\n",
              "      <th>3</th>\n",
              "      <td>1882931173</td>\n",
              "      <td>4</td>\n",
              "    </tr>\n",
              "    <tr>\n",
              "      <th>12</th>\n",
              "      <td>B000058A81</td>\n",
              "      <td>4</td>\n",
              "    </tr>\n",
              "    <tr>\n",
              "      <th>20</th>\n",
              "      <td>B000058A81</td>\n",
              "      <td>4</td>\n",
              "    </tr>\n",
              "    <tr>\n",
              "      <th>63</th>\n",
              "      <td>826414346</td>\n",
              "      <td>4</td>\n",
              "    </tr>\n",
              "    <tr>\n",
              "      <th>64</th>\n",
              "      <td>826414346</td>\n",
              "      <td>4</td>\n",
              "    </tr>\n",
              "    <tr>\n",
              "      <th>65</th>\n",
              "      <td>826414346</td>\n",
              "      <td>4</td>\n",
              "    </tr>\n",
              "    <tr>\n",
              "      <th>69</th>\n",
              "      <td>826414346</td>\n",
              "      <td>4</td>\n",
              "    </tr>\n",
              "    <tr>\n",
              "      <th>78</th>\n",
              "      <td>595344550</td>\n",
              "      <td>4</td>\n",
              "    </tr>\n",
              "    <tr>\n",
              "      <th>89</th>\n",
              "      <td>595344550</td>\n",
              "      <td>4</td>\n",
              "    </tr>\n",
              "    <tr>\n",
              "      <th>95</th>\n",
              "      <td>595344550</td>\n",
              "      <td>4</td>\n",
              "    </tr>\n",
              "    <tr>\n",
              "      <th>97</th>\n",
              "      <td>595344550</td>\n",
              "      <td>4</td>\n",
              "    </tr>\n",
              "    <tr>\n",
              "      <th>105</th>\n",
              "      <td>595344550</td>\n",
              "      <td>4</td>\n",
              "    </tr>\n",
              "    <tr>\n",
              "      <th>116</th>\n",
              "      <td>B000IZ8AZO</td>\n",
              "      <td>4</td>\n",
              "    </tr>\n",
              "    <tr>\n",
              "      <th>120</th>\n",
              "      <td>B0001Z3TLQ</td>\n",
              "      <td>4</td>\n",
              "    </tr>\n",
              "    <tr>\n",
              "      <th>126</th>\n",
              "      <td>802841899</td>\n",
              "      <td>4</td>\n",
              "    </tr>\n",
              "    <tr>\n",
              "      <th>127</th>\n",
              "      <td>802841899</td>\n",
              "      <td>4</td>\n",
              "    </tr>\n",
              "    <tr>\n",
              "      <th>140</th>\n",
              "      <td>B0009PK7KO</td>\n",
              "      <td>4</td>\n",
              "    </tr>\n",
              "    <tr>\n",
              "      <th>144</th>\n",
              "      <td>B000JINSBG</td>\n",
              "      <td>4</td>\n",
              "    </tr>\n",
              "    <tr>\n",
              "      <th>147</th>\n",
              "      <td>895554224</td>\n",
              "      <td>4</td>\n",
              "    </tr>\n",
              "    <tr>\n",
              "      <th>148</th>\n",
              "      <td>B000EVS4TY</td>\n",
              "      <td>4</td>\n",
              "    </tr>\n",
              "  </tbody>\n",
              "</table>\n",
              "</div>"
            ],
            "text/plain": [
              "     Product_Id  Ratings\n",
              "0    B000179R3I        4\n",
              "3    1882931173        4\n",
              "12   B000058A81        4\n",
              "20   B000058A81        4\n",
              "63    826414346        4\n",
              "64    826414346        4\n",
              "65    826414346        4\n",
              "69    826414346        4\n",
              "78    595344550        4\n",
              "89    595344550        4\n",
              "95    595344550        4\n",
              "97    595344550        4\n",
              "105   595344550        4\n",
              "116  B000IZ8AZO        4\n",
              "120  B0001Z3TLQ        4\n",
              "126   802841899        4\n",
              "127   802841899        4\n",
              "140  B0009PK7KO        4\n",
              "144  B000JINSBG        4\n",
              "147   895554224        4\n",
              "148  B000EVS4TY        4"
            ]
          },
          "metadata": {
            "tags": []
          },
          "execution_count": 13
        }
      ]
    }
  ]
}