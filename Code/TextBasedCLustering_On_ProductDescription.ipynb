{
  "nbformat": 4,
  "nbformat_minor": 0,
  "metadata": {
    "colab": {
      "name": "Untitled12.ipynb",
      "provenance": [],
      "collapsed_sections": []
    },
    "kernelspec": {
      "name": "python3",
      "display_name": "Python 3"
    }
  },
  "cells": [
    {
      "cell_type": "code",
      "metadata": {
        "id": "4qLL7UNDhzpE"
      },
      "source": [
        "# Importing libraries\n",
        "import pandas as pd #It allows you to store and manipulate tabular data in rows of observations and columns of variables.\n",
        "\n",
        "from sklearn.feature_extraction.text import TfidfVectorizer, CountVectorizer #1.Convert a collection of raw documents to a matrix of TF-IDF features. , 2. Convert a collection of text documents to a matrix of token counts\n",
        "\n",
        "from sklearn.neighbors import NearestNeighbors #Task of finding the nearest neighbors between two sets of data.\n",
        "from sklearn.cluster import KMeans #K-Means clustering\n",
        "from sklearn.metrics import adjusted_rand_score #Computes a similarity measure between two clusterings by considering all pairs of samples and counting pairs that are assigned in the same or different clusters in the predicted and true clusterings."
      ],
      "execution_count": 2,
      "outputs": []
    },
    {
      "cell_type": "code",
      "metadata": {
        "colab": {
          "base_uri": "https://localhost:8080/"
        },
        "id": "43MPBgG2iDVB",
        "outputId": "2a5f75a5-0334-49f6-dc86-15dd23ee765c"
      },
      "source": [
        "product_descriptions = pd.read_csv('/content/drive/MyDrive/ML DataSet/Updated_product_des.csv')\n",
        "product_descriptions.shape"
      ],
      "execution_count": 3,
      "outputs": [
        {
          "output_type": "execute_result",
          "data": {
            "text/plain": [
              "(16897, 10)"
            ]
          },
          "metadata": {
            "tags": []
          },
          "execution_count": 3
        }
      ]
    },
    {
      "cell_type": "code",
      "metadata": {
        "colab": {
          "base_uri": "https://localhost:8080/",
          "height": 204
        },
        "id": "O4onOa2pijKk",
        "outputId": "03c7d77c-2204-4edd-ed73-5aedce9c5d13"
      },
      "source": [
        "\n",
        "product_descriptions = product_descriptions.dropna() #To drop null value fields\n",
        "product_descriptions.shape\n",
        "product_descriptions.head()"
      ],
      "execution_count": null,
      "outputs": [
        {
          "output_type": "execute_result",
          "data": {
            "text/html": [
              "<div>\n",
              "<style scoped>\n",
              "    .dataframe tbody tr th:only-of-type {\n",
              "        vertical-align: middle;\n",
              "    }\n",
              "\n",
              "    .dataframe tbody tr th {\n",
              "        vertical-align: top;\n",
              "    }\n",
              "\n",
              "    .dataframe thead th {\n",
              "        text-align: right;\n",
              "    }\n",
              "</style>\n",
              "<table border=\"1\" class=\"dataframe\">\n",
              "  <thead>\n",
              "    <tr style=\"text-align: right;\">\n",
              "      <th></th>\n",
              "      <th>Product_Id</th>\n",
              "      <th>Product_title</th>\n",
              "      <th>Product_price</th>\n",
              "      <th>User_Id</th>\n",
              "      <th>Profile_name</th>\n",
              "      <th>Helpfullness</th>\n",
              "      <th>Ratings</th>\n",
              "      <th>Time_stamp</th>\n",
              "      <th>Summary</th>\n",
              "      <th>Review</th>\n",
              "    </tr>\n",
              "  </thead>\n",
              "  <tbody>\n",
              "    <tr>\n",
              "      <th>0</th>\n",
              "      <td>B000179R3I</td>\n",
              "      <td>Amazon.com: Austin Reed Dartmouth Jacket In B...</td>\n",
              "      <td>unknown</td>\n",
              "      <td>A3Q0VJTUO4EZ56</td>\n",
              "      <td>Jeanmarie Kabala \"JP Kabala\"</td>\n",
              "      <td>7</td>\n",
              "      <td>4</td>\n",
              "      <td>1182816000</td>\n",
              "      <td>This a an american blazer. Red in Color.</td>\n",
              "      <td>I own the Austin Reed dartmouth blazer in eve...</td>\n",
              "    </tr>\n",
              "    <tr>\n",
              "      <th>1</th>\n",
              "      <td>B000GKXY34</td>\n",
              "      <td>Nun Chuck, Novelty: Nun Toss Toy</td>\n",
              "      <td>17.99</td>\n",
              "      <td>ADX8VLDUOL7BG</td>\n",
              "      <td>M. Gingras</td>\n",
              "      <td>0</td>\n",
              "      <td>5</td>\n",
              "      <td>1262304000</td>\n",
              "      <td>Cotton Raymond Blazer</td>\n",
              "      <td>Got these last Christmas as a gag gift. They ...</td>\n",
              "    </tr>\n",
              "    <tr>\n",
              "      <th>2</th>\n",
              "      <td>B000GKXY34</td>\n",
              "      <td>Nun Chuck, Novelty Nun Toss Toy</td>\n",
              "      <td>17.99</td>\n",
              "      <td>A3NM6P6BIWTIAE</td>\n",
              "      <td>Maria Carpenter</td>\n",
              "      <td>0</td>\n",
              "      <td>3</td>\n",
              "      <td>1224633600</td>\n",
              "      <td>Iphone 11 256 gb</td>\n",
              "      <td>Gave this to my dad for a gag gift after dire...</td>\n",
              "    </tr>\n",
              "    <tr>\n",
              "      <th>3</th>\n",
              "      <td>1882931173</td>\n",
              "      <td>Its Only Art If Its Well Hung!</td>\n",
              "      <td>unknown</td>\n",
              "      <td>AVCGYZL8FQQTD</td>\n",
              "      <td>Jim of Oz \"jim-of-oz\"</td>\n",
              "      <td>7</td>\n",
              "      <td>4</td>\n",
              "      <td>940636800</td>\n",
              "      <td>Refurbished Iphone X</td>\n",
              "      <td>This is only for Julie Strain fans. It's a co...</td>\n",
              "    </tr>\n",
              "    <tr>\n",
              "      <th>4</th>\n",
              "      <td>B00002066I</td>\n",
              "      <td>ah</td>\n",
              "      <td>15.99</td>\n",
              "      <td>unknown</td>\n",
              "      <td>unknown</td>\n",
              "      <td>3</td>\n",
              "      <td>5</td>\n",
              "      <td>939772800</td>\n",
              "      <td>Iphone 8 64 gb</td>\n",
              "      <td>I hope a lot of people hear this cd. We need ...</td>\n",
              "    </tr>\n",
              "  </tbody>\n",
              "</table>\n",
              "</div>"
            ],
            "text/plain": [
              "   Product_Id  ...                                             Review\n",
              "0  B000179R3I  ...   I own the Austin Reed dartmouth blazer in eve...\n",
              "1  B000GKXY34  ...   Got these last Christmas as a gag gift. They ...\n",
              "2  B000GKXY34  ...   Gave this to my dad for a gag gift after dire...\n",
              "3  1882931173  ...   This is only for Julie Strain fans. It's a co...\n",
              "4  B00002066I  ...   I hope a lot of people hear this cd. We need ...\n",
              "\n",
              "[5 rows x 10 columns]"
            ]
          },
          "metadata": {
            "tags": []
          },
          "execution_count": 4
        }
      ]
    },
    {
      "cell_type": "code",
      "metadata": {
        "colab": {
          "base_uri": "https://localhost:8080/"
        },
        "id": "hK27u6f2i3HE",
        "outputId": "72e80be4-ca58-4ca5-8513-654bff1aba35"
      },
      "source": [
        "product_descriptions1 = product_descriptions.head(10)\n",
        "# product_descriptions1.iloc[:,1]\n",
        "\n",
        "Data1=product_descriptions1[\"Summary\"].head(10)\n",
        "Data1"
      ],
      "execution_count": 4,
      "outputs": [
        {
          "output_type": "execute_result",
          "data": {
            "text/plain": [
              "0    This a an american blazer. Red in Color.\n",
              "1                       Cotton Raymond Blazer\n",
              "2                            Iphone 11 256 gb\n",
              "3                        Refurbished Iphone X\n",
              "4                              Iphone 8 64 gb\n",
              "5                              Hard Drive HDD\n",
              "6                              Hard Drive SSD\n",
              "7                            BodyWear for men\n",
              "8                        Body Perfume for men\n",
              "9                          Internal Hard Disk\n",
              "Name: Summary, dtype: object"
            ]
          },
          "metadata": {
            "tags": []
          },
          "execution_count": 4
        }
      ]
    },
    {
      "cell_type": "code",
      "metadata": {
        "colab": {
          "base_uri": "https://localhost:8080/"
        },
        "id": "ZrGwYKVykTOT",
        "outputId": "13c5090e-1e93-40ac-ff6f-e669c1e9c8be"
      },
      "source": [
        "\n",
        "vectorizer = TfidfVectorizer(stop_words='english') #It will not consider english words such as is,an,the and as follows.\n",
        "X1 = vectorizer.fit_transform(Data1) #used for generating learning model parameters from training data and also to generate transformed data set.\n",
        "X1.toarray()"
      ],
      "execution_count": 5,
      "outputs": [
        {
          "output_type": "execute_result",
          "data": {
            "text/plain": [
              "array([[0.        , 0.        , 0.        , 0.5182909 , 0.44059462,\n",
              "        0.        , 0.        , 0.5182909 , 0.        , 0.        ,\n",
              "        0.        , 0.        , 0.        , 0.        , 0.        ,\n",
              "        0.        , 0.        , 0.        , 0.        , 0.5182909 ,\n",
              "        0.        , 0.        ],\n",
              "       [0.        , 0.        , 0.        , 0.        , 0.51519219,\n",
              "        0.        , 0.        , 0.        , 0.60604332, 0.        ,\n",
              "        0.        , 0.        , 0.        , 0.        , 0.        ,\n",
              "        0.        , 0.        , 0.        , 0.60604332, 0.        ,\n",
              "        0.        , 0.        ],\n",
              "       [0.55251242, 0.55251242, 0.        , 0.        , 0.        ,\n",
              "        0.        , 0.        , 0.        , 0.        , 0.        ,\n",
              "        0.        , 0.46968604, 0.        , 0.        , 0.        ,\n",
              "        0.41091978, 0.        , 0.        , 0.        , 0.        ,\n",
              "        0.        , 0.        ],\n",
              "       [0.        , 0.        , 0.        , 0.        , 0.        ,\n",
              "        0.        , 0.        , 0.        , 0.        , 0.        ,\n",
              "        0.        , 0.        , 0.        , 0.        , 0.        ,\n",
              "        0.59677497, 0.        , 0.        , 0.        , 0.        ,\n",
              "        0.80240865, 0.        ],\n",
              "       [0.        , 0.        , 0.66287863, 0.        , 0.        ,\n",
              "        0.        , 0.        , 0.        , 0.        , 0.        ,\n",
              "        0.        , 0.56350739, 0.        , 0.        , 0.        ,\n",
              "        0.49300238, 0.        , 0.        , 0.        , 0.        ,\n",
              "        0.        , 0.        ],\n",
              "       [0.        , 0.        , 0.        , 0.        , 0.        ,\n",
              "        0.        , 0.        , 0.        , 0.        , 0.        ,\n",
              "        0.56350739, 0.        , 0.49300238, 0.66287863, 0.        ,\n",
              "        0.        , 0.        , 0.        , 0.        , 0.        ,\n",
              "        0.        , 0.        ],\n",
              "       [0.        , 0.        , 0.        , 0.        , 0.        ,\n",
              "        0.        , 0.        , 0.        , 0.        , 0.        ,\n",
              "        0.56350739, 0.        , 0.49300238, 0.        , 0.        ,\n",
              "        0.        , 0.        , 0.        , 0.        , 0.        ,\n",
              "        0.        , 0.66287863],\n",
              "       [0.        , 0.        , 0.        , 0.        , 0.        ,\n",
              "        0.        , 0.76190497, 0.        , 0.        , 0.        ,\n",
              "        0.        , 0.        , 0.        , 0.        , 0.        ,\n",
              "        0.        , 0.64768883, 0.        , 0.        , 0.        ,\n",
              "        0.        , 0.        ],\n",
              "       [0.        , 0.        , 0.        , 0.        , 0.        ,\n",
              "        0.60604332, 0.        , 0.        , 0.        , 0.        ,\n",
              "        0.        , 0.        , 0.        , 0.        , 0.        ,\n",
              "        0.        , 0.51519219, 0.60604332, 0.        , 0.        ,\n",
              "        0.        , 0.        ],\n",
              "       [0.        , 0.        , 0.        , 0.        , 0.        ,\n",
              "        0.        , 0.        , 0.        , 0.        , 0.62583988,\n",
              "        0.        , 0.        , 0.46545557, 0.        , 0.62583988,\n",
              "        0.        , 0.        , 0.        , 0.        , 0.        ,\n",
              "        0.        , 0.        ]])"
            ]
          },
          "metadata": {
            "tags": []
          },
          "execution_count": 5
        }
      ]
    },
    {
      "cell_type": "code",
      "metadata": {
        "colab": {
          "base_uri": "https://localhost:8080/",
          "height": 626
        },
        "id": "ugQzTxe5B0Ol",
        "outputId": "cc48d9cd-17cb-43a5-f0fa-11422321b40f"
      },
      "source": [
        "X2= pd.DataFrame(X1.toarray(), index=Data1, columns=vectorizer.get_feature_names()) #To generate Two-dimensional, size-mutable, potentially heterogeneous tabular data.\n",
        "X2"
      ],
      "execution_count": 8,
      "outputs": [
        {
          "output_type": "execute_result",
          "data": {
            "text/html": [
              "<div>\n",
              "<style scoped>\n",
              "    .dataframe tbody tr th:only-of-type {\n",
              "        vertical-align: middle;\n",
              "    }\n",
              "\n",
              "    .dataframe tbody tr th {\n",
              "        vertical-align: top;\n",
              "    }\n",
              "\n",
              "    .dataframe thead th {\n",
              "        text-align: right;\n",
              "    }\n",
              "</style>\n",
              "<table border=\"1\" class=\"dataframe\">\n",
              "  <thead>\n",
              "    <tr style=\"text-align: right;\">\n",
              "      <th></th>\n",
              "      <th>11</th>\n",
              "      <th>256</th>\n",
              "      <th>64</th>\n",
              "      <th>american</th>\n",
              "      <th>blazer</th>\n",
              "      <th>body</th>\n",
              "      <th>bodywear</th>\n",
              "      <th>color</th>\n",
              "      <th>cotton</th>\n",
              "      <th>disk</th>\n",
              "      <th>drive</th>\n",
              "      <th>gb</th>\n",
              "      <th>hard</th>\n",
              "      <th>hdd</th>\n",
              "      <th>internal</th>\n",
              "      <th>iphone</th>\n",
              "      <th>men</th>\n",
              "      <th>perfume</th>\n",
              "      <th>raymond</th>\n",
              "      <th>red</th>\n",
              "      <th>refurbished</th>\n",
              "      <th>ssd</th>\n",
              "    </tr>\n",
              "    <tr>\n",
              "      <th>Summary</th>\n",
              "      <th></th>\n",
              "      <th></th>\n",
              "      <th></th>\n",
              "      <th></th>\n",
              "      <th></th>\n",
              "      <th></th>\n",
              "      <th></th>\n",
              "      <th></th>\n",
              "      <th></th>\n",
              "      <th></th>\n",
              "      <th></th>\n",
              "      <th></th>\n",
              "      <th></th>\n",
              "      <th></th>\n",
              "      <th></th>\n",
              "      <th></th>\n",
              "      <th></th>\n",
              "      <th></th>\n",
              "      <th></th>\n",
              "      <th></th>\n",
              "      <th></th>\n",
              "      <th></th>\n",
              "    </tr>\n",
              "  </thead>\n",
              "  <tbody>\n",
              "    <tr>\n",
              "      <th>This a an american blazer. Red in Color.</th>\n",
              "      <td>0.000000</td>\n",
              "      <td>0.000000</td>\n",
              "      <td>0.000000</td>\n",
              "      <td>0.518291</td>\n",
              "      <td>0.440595</td>\n",
              "      <td>0.000000</td>\n",
              "      <td>0.000000</td>\n",
              "      <td>0.518291</td>\n",
              "      <td>0.000000</td>\n",
              "      <td>0.00000</td>\n",
              "      <td>0.000000</td>\n",
              "      <td>0.000000</td>\n",
              "      <td>0.000000</td>\n",
              "      <td>0.000000</td>\n",
              "      <td>0.00000</td>\n",
              "      <td>0.000000</td>\n",
              "      <td>0.000000</td>\n",
              "      <td>0.000000</td>\n",
              "      <td>0.000000</td>\n",
              "      <td>0.518291</td>\n",
              "      <td>0.000000</td>\n",
              "      <td>0.000000</td>\n",
              "    </tr>\n",
              "    <tr>\n",
              "      <th>Cotton Raymond Blazer</th>\n",
              "      <td>0.000000</td>\n",
              "      <td>0.000000</td>\n",
              "      <td>0.000000</td>\n",
              "      <td>0.000000</td>\n",
              "      <td>0.515192</td>\n",
              "      <td>0.000000</td>\n",
              "      <td>0.000000</td>\n",
              "      <td>0.000000</td>\n",
              "      <td>0.606043</td>\n",
              "      <td>0.00000</td>\n",
              "      <td>0.000000</td>\n",
              "      <td>0.000000</td>\n",
              "      <td>0.000000</td>\n",
              "      <td>0.000000</td>\n",
              "      <td>0.00000</td>\n",
              "      <td>0.000000</td>\n",
              "      <td>0.000000</td>\n",
              "      <td>0.000000</td>\n",
              "      <td>0.606043</td>\n",
              "      <td>0.000000</td>\n",
              "      <td>0.000000</td>\n",
              "      <td>0.000000</td>\n",
              "    </tr>\n",
              "    <tr>\n",
              "      <th>Iphone 11 256 gb</th>\n",
              "      <td>0.552512</td>\n",
              "      <td>0.552512</td>\n",
              "      <td>0.000000</td>\n",
              "      <td>0.000000</td>\n",
              "      <td>0.000000</td>\n",
              "      <td>0.000000</td>\n",
              "      <td>0.000000</td>\n",
              "      <td>0.000000</td>\n",
              "      <td>0.000000</td>\n",
              "      <td>0.00000</td>\n",
              "      <td>0.000000</td>\n",
              "      <td>0.469686</td>\n",
              "      <td>0.000000</td>\n",
              "      <td>0.000000</td>\n",
              "      <td>0.00000</td>\n",
              "      <td>0.410920</td>\n",
              "      <td>0.000000</td>\n",
              "      <td>0.000000</td>\n",
              "      <td>0.000000</td>\n",
              "      <td>0.000000</td>\n",
              "      <td>0.000000</td>\n",
              "      <td>0.000000</td>\n",
              "    </tr>\n",
              "    <tr>\n",
              "      <th>Refurbished Iphone X</th>\n",
              "      <td>0.000000</td>\n",
              "      <td>0.000000</td>\n",
              "      <td>0.000000</td>\n",
              "      <td>0.000000</td>\n",
              "      <td>0.000000</td>\n",
              "      <td>0.000000</td>\n",
              "      <td>0.000000</td>\n",
              "      <td>0.000000</td>\n",
              "      <td>0.000000</td>\n",
              "      <td>0.00000</td>\n",
              "      <td>0.000000</td>\n",
              "      <td>0.000000</td>\n",
              "      <td>0.000000</td>\n",
              "      <td>0.000000</td>\n",
              "      <td>0.00000</td>\n",
              "      <td>0.596775</td>\n",
              "      <td>0.000000</td>\n",
              "      <td>0.000000</td>\n",
              "      <td>0.000000</td>\n",
              "      <td>0.000000</td>\n",
              "      <td>0.802409</td>\n",
              "      <td>0.000000</td>\n",
              "    </tr>\n",
              "    <tr>\n",
              "      <th>Iphone 8 64 gb</th>\n",
              "      <td>0.000000</td>\n",
              "      <td>0.000000</td>\n",
              "      <td>0.662879</td>\n",
              "      <td>0.000000</td>\n",
              "      <td>0.000000</td>\n",
              "      <td>0.000000</td>\n",
              "      <td>0.000000</td>\n",
              "      <td>0.000000</td>\n",
              "      <td>0.000000</td>\n",
              "      <td>0.00000</td>\n",
              "      <td>0.000000</td>\n",
              "      <td>0.563507</td>\n",
              "      <td>0.000000</td>\n",
              "      <td>0.000000</td>\n",
              "      <td>0.00000</td>\n",
              "      <td>0.493002</td>\n",
              "      <td>0.000000</td>\n",
              "      <td>0.000000</td>\n",
              "      <td>0.000000</td>\n",
              "      <td>0.000000</td>\n",
              "      <td>0.000000</td>\n",
              "      <td>0.000000</td>\n",
              "    </tr>\n",
              "    <tr>\n",
              "      <th>Hard Drive HDD</th>\n",
              "      <td>0.000000</td>\n",
              "      <td>0.000000</td>\n",
              "      <td>0.000000</td>\n",
              "      <td>0.000000</td>\n",
              "      <td>0.000000</td>\n",
              "      <td>0.000000</td>\n",
              "      <td>0.000000</td>\n",
              "      <td>0.000000</td>\n",
              "      <td>0.000000</td>\n",
              "      <td>0.00000</td>\n",
              "      <td>0.563507</td>\n",
              "      <td>0.000000</td>\n",
              "      <td>0.493002</td>\n",
              "      <td>0.662879</td>\n",
              "      <td>0.00000</td>\n",
              "      <td>0.000000</td>\n",
              "      <td>0.000000</td>\n",
              "      <td>0.000000</td>\n",
              "      <td>0.000000</td>\n",
              "      <td>0.000000</td>\n",
              "      <td>0.000000</td>\n",
              "      <td>0.000000</td>\n",
              "    </tr>\n",
              "    <tr>\n",
              "      <th>Hard Drive SSD</th>\n",
              "      <td>0.000000</td>\n",
              "      <td>0.000000</td>\n",
              "      <td>0.000000</td>\n",
              "      <td>0.000000</td>\n",
              "      <td>0.000000</td>\n",
              "      <td>0.000000</td>\n",
              "      <td>0.000000</td>\n",
              "      <td>0.000000</td>\n",
              "      <td>0.000000</td>\n",
              "      <td>0.00000</td>\n",
              "      <td>0.563507</td>\n",
              "      <td>0.000000</td>\n",
              "      <td>0.493002</td>\n",
              "      <td>0.000000</td>\n",
              "      <td>0.00000</td>\n",
              "      <td>0.000000</td>\n",
              "      <td>0.000000</td>\n",
              "      <td>0.000000</td>\n",
              "      <td>0.000000</td>\n",
              "      <td>0.000000</td>\n",
              "      <td>0.000000</td>\n",
              "      <td>0.662879</td>\n",
              "    </tr>\n",
              "    <tr>\n",
              "      <th>BodyWear for men</th>\n",
              "      <td>0.000000</td>\n",
              "      <td>0.000000</td>\n",
              "      <td>0.000000</td>\n",
              "      <td>0.000000</td>\n",
              "      <td>0.000000</td>\n",
              "      <td>0.000000</td>\n",
              "      <td>0.761905</td>\n",
              "      <td>0.000000</td>\n",
              "      <td>0.000000</td>\n",
              "      <td>0.00000</td>\n",
              "      <td>0.000000</td>\n",
              "      <td>0.000000</td>\n",
              "      <td>0.000000</td>\n",
              "      <td>0.000000</td>\n",
              "      <td>0.00000</td>\n",
              "      <td>0.000000</td>\n",
              "      <td>0.647689</td>\n",
              "      <td>0.000000</td>\n",
              "      <td>0.000000</td>\n",
              "      <td>0.000000</td>\n",
              "      <td>0.000000</td>\n",
              "      <td>0.000000</td>\n",
              "    </tr>\n",
              "    <tr>\n",
              "      <th>Body Perfume for men</th>\n",
              "      <td>0.000000</td>\n",
              "      <td>0.000000</td>\n",
              "      <td>0.000000</td>\n",
              "      <td>0.000000</td>\n",
              "      <td>0.000000</td>\n",
              "      <td>0.606043</td>\n",
              "      <td>0.000000</td>\n",
              "      <td>0.000000</td>\n",
              "      <td>0.000000</td>\n",
              "      <td>0.00000</td>\n",
              "      <td>0.000000</td>\n",
              "      <td>0.000000</td>\n",
              "      <td>0.000000</td>\n",
              "      <td>0.000000</td>\n",
              "      <td>0.00000</td>\n",
              "      <td>0.000000</td>\n",
              "      <td>0.515192</td>\n",
              "      <td>0.606043</td>\n",
              "      <td>0.000000</td>\n",
              "      <td>0.000000</td>\n",
              "      <td>0.000000</td>\n",
              "      <td>0.000000</td>\n",
              "    </tr>\n",
              "    <tr>\n",
              "      <th>Internal Hard Disk</th>\n",
              "      <td>0.000000</td>\n",
              "      <td>0.000000</td>\n",
              "      <td>0.000000</td>\n",
              "      <td>0.000000</td>\n",
              "      <td>0.000000</td>\n",
              "      <td>0.000000</td>\n",
              "      <td>0.000000</td>\n",
              "      <td>0.000000</td>\n",
              "      <td>0.000000</td>\n",
              "      <td>0.62584</td>\n",
              "      <td>0.000000</td>\n",
              "      <td>0.000000</td>\n",
              "      <td>0.465456</td>\n",
              "      <td>0.000000</td>\n",
              "      <td>0.62584</td>\n",
              "      <td>0.000000</td>\n",
              "      <td>0.000000</td>\n",
              "      <td>0.000000</td>\n",
              "      <td>0.000000</td>\n",
              "      <td>0.000000</td>\n",
              "      <td>0.000000</td>\n",
              "      <td>0.000000</td>\n",
              "    </tr>\n",
              "  </tbody>\n",
              "</table>\n",
              "</div>"
            ],
            "text/plain": [
              "                                                11  ...       ssd\n",
              "Summary                                             ...          \n",
              "This a an american blazer. Red in Color.  0.000000  ...  0.000000\n",
              "Cotton Raymond Blazer                     0.000000  ...  0.000000\n",
              "Iphone 11 256 gb                          0.552512  ...  0.000000\n",
              "Refurbished Iphone X                      0.000000  ...  0.000000\n",
              "Iphone 8 64 gb                            0.000000  ...  0.000000\n",
              "Hard Drive HDD                            0.000000  ...  0.000000\n",
              "Hard Drive SSD                            0.000000  ...  0.662879\n",
              "BodyWear for men                          0.000000  ...  0.000000\n",
              "Body Perfume for men                      0.000000  ...  0.000000\n",
              "Internal Hard Disk                        0.000000  ...  0.000000\n",
              "\n",
              "[10 rows x 22 columns]"
            ]
          },
          "metadata": {
            "tags": []
          },
          "execution_count": 8
        }
      ]
    },
    {
      "cell_type": "code",
      "metadata": {
        "colab": {
          "base_uri": "https://localhost:8080/"
        },
        "id": "hbhW2qllp7YP",
        "outputId": "c7e94516-bb22-4db2-b295-9a857c6fe8cf"
      },
      "source": [
        "X2.shape"
      ],
      "execution_count": 9,
      "outputs": [
        {
          "output_type": "execute_result",
          "data": {
            "text/plain": [
              "(10, 22)"
            ]
          },
          "metadata": {
            "tags": []
          },
          "execution_count": 9
        }
      ]
    },
    {
      "cell_type": "code",
      "metadata": {
        "colab": {
          "base_uri": "https://localhost:8080/",
          "height": 279
        },
        "id": "GzCUN7Apy9iL",
        "outputId": "3325bfc4-2c98-41cc-ce45-91161adda604"
      },
      "source": [
        "# Fitting K-Means to the dataset\n",
        "import matplotlib.pyplot as plt\n",
        "\n",
        "X=X1\n",
        "\n",
        "kmeans = KMeans(n_clusters = 4, init = 'k-means++') \n",
        "#n_clusters : The number of clusters to form as well as the number of centroids to generate.\n",
        "# 'init = k-means++’ : selects initial cluster centers for k-mean clustering in a smart way to speed up convergence.\n",
        "\n",
        "y_kmeans = kmeans.fit_predict(X) #Predict the closest cluster of each sample in X belongs to.\n",
        "\n",
        "plt.xlabel(\"No. of rows\")\n",
        "plt.ylabel(\"No. of Clusters\")\n",
        "plt.plot(y_kmeans, \".\")\n",
        "plt.show()"
      ],
      "execution_count": 11,
      "outputs": [
        {
          "output_type": "display_data",
          "data": {
            "image/png": "[encoded data removed]",
            "text/plain": [
              "<Figure size 432x288 with 1 Axes>"
            ]
          },
          "metadata": {
            "tags": [],
            "needs_background": "light"
          }
        }
      ]
    },
    {
      "cell_type": "code",
      "metadata": {
        "colab": {
          "base_uri": "https://localhost:8080/"
        },
        "id": "WxS4C-FzZeoZ",
        "outputId": "6069010a-f159-437b-82eb-a51d11126c66"
      },
      "source": [
        "y_kmeans"
      ],
      "execution_count": 18,
      "outputs": [
        {
          "output_type": "execute_result",
          "data": {
            "text/plain": [
              "array([3, 3, 1, 1, 1, 0, 0, 2, 2, 0], dtype=int32)"
            ]
          },
          "metadata": {
            "tags": []
          },
          "execution_count": 18
        }
      ]
    },
    {
      "cell_type": "code",
      "metadata": {
        "id": "r5_jW0MrzEXh"
      },
      "source": [
        "def print_cluster(i):\n",
        "    print(\"Cluster %d:\" % i),\n",
        "    for ind in order_centroids[i, :5]:\n",
        "        print(' %s' % terms[ind]),\n",
        "    print"
      ],
      "execution_count": 19,
      "outputs": []
    },
    {
      "cell_type": "code",
      "metadata": {
        "colab": {
          "base_uri": "https://localhost:8080/"
        },
        "id": "rfSMLO2wzJcX",
        "outputId": "d42f5dc0-8346-491a-9983-7225436207bb"
      },
      "source": [
        "true_k = 4\n",
        "\n",
        "model = KMeans(n_clusters=true_k, init='k-means++', max_iter=100, n_init=1)\n",
        "# max_iter : Maximum number of iterations of the k-means algorithm for a single run.\n",
        "# n_init : Maximum number of iterations of the k-means algorithm for a single run. The final results will be the best output of n_init consecutive runs in terms of inertia.\n",
        "\n",
        "model.fit(X) #Fitting your model to the training data is essentially the training part of the modeling process.\n",
        "\n",
        "print(\"Top terms per cluster:\")\n",
        "order_centroids = model.cluster_centers_.argsort()[:, ::-1] #Sort cluster centers by proximity to centroid.\n",
        "terms = vectorizer.get_feature_names() #gets a particular word.\n",
        "for i in range(true_k):\n",
        "    print_cluster(i)"
      ],
      "execution_count": 20,
      "outputs": [
        {
          "output_type": "stream",
          "text": [
            "Top terms per cluster:\n",
            "Cluster 0:\n",
            " hard\n",
            " drive\n",
            " hdd\n",
            " ssd\n",
            " internal\n",
            "Cluster 1:\n",
            " iphone\n",
            " gb\n",
            " refurbished\n",
            " 64\n",
            " 11\n",
            "Cluster 2:\n",
            " blazer\n",
            " raymond\n",
            " cotton\n",
            " red\n",
            " american\n",
            "Cluster 3:\n",
            " men\n",
            " bodywear\n",
            " perfume\n",
            " body\n",
            " ssd\n"
          ],
          "name": "stdout"
        }
      ]
    },
    {
      "cell_type": "code",
      "metadata": {
        "id": "qpqXsSRkzWRk"
      },
      "source": [
        "def show_recommendations(product):\n",
        "    #print(\"Cluster ID:\")\n",
        "    Y = vectorizer.transform([product])\n",
        "    prediction = model.predict(Y)\n",
        "    #print(prediction)\n",
        "    print_cluster(prediction[0])"
      ],
      "execution_count": 21,
      "outputs": []
    },
    {
      "cell_type": "code",
      "metadata": {
        "colab": {
          "base_uri": "https://localhost:8080/"
        },
        "id": "ulYbZVaQzekm",
        "outputId": "2b84aef6-db16-4c54-8d03-d5ba54f81619"
      },
      "source": [
        "show_recommendations(\"hard drive\")"
      ],
      "execution_count": 22,
      "outputs": [
        {
          "output_type": "stream",
          "text": [
            "Cluster 0:\n",
            " hard\n",
            " drive\n",
            " hdd\n",
            " ssd\n",
            " internal\n"
          ],
          "name": "stdout"
        }
      ]
    }
  ]
}